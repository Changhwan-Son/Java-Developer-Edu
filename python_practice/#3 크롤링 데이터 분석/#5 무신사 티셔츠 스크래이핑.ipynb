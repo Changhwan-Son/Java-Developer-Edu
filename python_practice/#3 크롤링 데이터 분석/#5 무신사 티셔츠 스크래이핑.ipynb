{
 "cells": [
  {
   "cell_type": "markdown",
   "metadata": {},
   "source": [
    "# 무신사 스크래이핑 \n",
    "- [ ] 상품번호\n",
    "- [ ] 브랜드 \n",
    "- [ ] 제품명 \n",
    "- [ ] 가격\n",
    "- [ ] 제품 만족도 \n",
    "- [ ] 썸네일 사진 - 001001-상품번호-thumb.jpg\n",
    "- [ ] 제품 상세 사진 - 001001-상품번호-detail-(n).jpg\n"
   ]
  },
  {
   "cell_type": "code",
   "execution_count": 11,
   "metadata": {},
   "outputs": [],
   "source": [
    "from bs4 import BeautifulSoup\n",
    "from urllib.request import urlopen, urlretrieve # urlretrieve : 이미지 다운\n",
    "\n",
    "url = 'https://store.musinsa.com/app/items/lists/001001'"
   ]
  },
  {
   "cell_type": "code",
   "execution_count": 12,
   "metadata": {},
   "outputs": [],
   "source": [
    "page = urlopen(url)\n",
    "soup = BeautifulSoup(page, 'html.parser')"
   ]
  },
  {
   "cell_type": "markdown",
   "metadata": {},
   "source": [
    "## 스크래이핑 전략 세우기\n",
    "- 내가 스크래이핑 하고자 하는 엘리먼트를 포함하는 엘리먼트의 ID를 찾는다. \n",
    "- 최대한 ID값을 활용하라 ."
   ]
  },
  {
   "cell_type": "code",
   "execution_count": 13,
   "metadata": {},
   "outputs": [
    {
     "data": {
      "text/plain": [
       "90"
      ]
     },
     "execution_count": 13,
     "metadata": {},
     "output_type": "execute_result"
    }
   ],
   "source": [
    "li_box = soup.find('ul', id='searchList').find_all('li', class_='li_box')\n",
    "len(li_box)"
   ]
  },
  {
   "cell_type": "markdown",
   "metadata": {},
   "source": [
    "## 전체를 한번에 수집하는 것이 아닌, 하나의 아이템만 먼저 스크래이핑 하자 "
   ]
  },
  {
   "cell_type": "code",
   "execution_count": 15,
   "metadata": {},
   "outputs": [],
   "source": [
    "brand = li_box[0].find('p', class_='item_title').text\n",
    "product = li_box[0].find('p', class_='list_info').text\n",
    "price = li_box[0].find('p', class_='price').text"
   ]
  },
  {
   "cell_type": "code",
   "execution_count": 16,
   "metadata": {},
   "outputs": [
    {
     "data": {
      "text/plain": [
       "('그레이버',\n",
       " '\\n\\n\\t\\t\\t\\t[UNISEX]도트보드 자수 화이트클립 반팔티_2color\\n',\n",
       " '\\n\\t\\t\\t\\t\\t\\t\\t\\t42,000원\\n\\t\\t\\t')"
      ]
     },
     "execution_count": 16,
     "metadata": {},
     "output_type": "execute_result"
    }
   ],
   "source": [
    "brand, product, price"
   ]
  },
  {
   "cell_type": "code",
   "execution_count": 20,
   "metadata": {},
   "outputs": [
    {
     "data": {
      "text/plain": [
       "'1517122'"
      ]
     },
     "execution_count": 20,
     "metadata": {},
     "output_type": "execute_result"
    }
   ],
   "source": [
    "# 상품번호 가져오기 \n",
    "product_num = li_box[0].find('div', class_='list_img').find('a')['href']\n",
    "product_num = product_num.split('/')[-2]\n",
    "product_num"
   ]
  },
  {
   "cell_type": "markdown",
   "metadata": {},
   "source": [
    "# 썸네일 저장하기\n",
    "- path : ./musinsa/thumb\n",
    "\n",
    "- 반복되는 문자열은 포매팅 기법을 적절하게 사용 \n",
    "\n",
    "- 이미지 이름이 제품번호, 인덱스를 제외하고 다 비슷 "
   ]
  },
  {
   "cell_type": "code",
   "execution_count": 21,
   "metadata": {},
   "outputs": [],
   "source": [
    "thumb_path = './musinsa/thumb/{}'"
   ]
  },
  {
   "cell_type": "code",
   "execution_count": 25,
   "metadata": {},
   "outputs": [
    {
     "data": {
      "text/plain": [
       "'//image.msscdn.net/images/goods_img/20200716/1517122/1517122_1_125.jpg'"
      ]
     },
     "execution_count": 25,
     "metadata": {},
     "output_type": "execute_result"
    }
   ],
   "source": [
    "# 썸네일 url 가지고 오기 \n",
    "thumb_url = li_box[0].find('div', class_='list_img').find('img')['data-original']\n",
    "thumb_url"
   ]
  },
  {
   "cell_type": "code",
   "execution_count": 27,
   "metadata": {},
   "outputs": [
    {
     "data": {
      "text/plain": [
       "('./musinsa/thumb/001001-1517122-thumb.jpg',\n",
       " <http.client.HTTPMessage at 0x114341e90>)"
      ]
     },
     "execution_count": 27,
     "metadata": {},
     "output_type": "execute_result"
    }
   ],
   "source": [
    "urlretrieve('https:'+thumb_url, thumb_path.format('001001-{}-thumb.jpg').format(product_num))\n"
   ]
  },
  {
   "cell_type": "markdown",
   "metadata": {},
   "source": [
    "# 상세 페이지 url"
   ]
  },
  {
   "cell_type": "code",
   "execution_count": 28,
   "metadata": {},
   "outputs": [
    {
     "data": {
      "text/plain": [
       "'/app/product/detail/1517122/0'"
      ]
     },
     "execution_count": 28,
     "metadata": {},
     "output_type": "execute_result"
    }
   ],
   "source": [
    "detail_url = li_box[0].find('div', class_='list_img').find('a')['href']\n",
    "detail_url"
   ]
  },
  {
   "cell_type": "code",
   "execution_count": 29,
   "metadata": {},
   "outputs": [
    {
     "data": {
      "text/plain": [
       "'https://store.musinsa.com/app/product/detail/1517122/0'"
      ]
     },
     "execution_count": 29,
     "metadata": {},
     "output_type": "execute_result"
    }
   ],
   "source": [
    "from urllib.parse import urljoin\n",
    "\n",
    "base_url = 'https://store.musinsa.com/'\n",
    "\n",
    "full_url = urljoin(base_url, detail_url)\n",
    "full_url"
   ]
  },
  {
   "cell_type": "markdown",
   "metadata": {},
   "source": [
    "# 후기 가지고 오기"
   ]
  },
  {
   "cell_type": "code",
   "execution_count": 31,
   "metadata": {},
   "outputs": [],
   "source": [
    "detail_page = urlopen(full_url)\n",
    "detail_soup = BeautifulSoup(detail_page, 'html.parser')"
   ]
  },
  {
   "cell_type": "code",
   "execution_count": 33,
   "metadata": {},
   "outputs": [
    {
     "data": {
      "text/plain": [
       "'등록된 후기가 없습니다.'"
      ]
     },
     "execution_count": 33,
     "metadata": {},
     "output_type": "execute_result"
    }
   ],
   "source": [
    "review_msg = detail_soup.find('div', class_='estimate-stats').text.strip()\n",
    "review_msg"
   ]
  },
  {
   "cell_type": "markdown",
   "metadata": {},
   "source": [
    "# 상세 이미지 가져오기 \n",
    "- 규칙 확인 결과 : thum_[li의 인덱스]로 계속 늘어가는 것을 확인"
   ]
  },
  {
   "cell_type": "code",
   "execution_count": 34,
   "metadata": {},
   "outputs": [
    {
     "data": {
      "text/plain": [
       "1"
      ]
     },
     "execution_count": 34,
     "metadata": {},
     "output_type": "execute_result"
    }
   ],
   "source": [
    "img_li_list = detail_soup.find('ul', class_='product_thumb').find_all('li')\n",
    "len(img_li_list)"
   ]
  },
  {
   "cell_type": "code",
   "execution_count": 36,
   "metadata": {},
   "outputs": [],
   "source": [
    "img_id_format = 'thum_{}'"
   ]
  },
  {
   "cell_type": "code",
   "execution_count": 52,
   "metadata": {},
   "outputs": [],
   "source": [
    "thumb_img_name  = '001001-{}-thumb.jpg'\n",
    "detail_img_name = '001001-{}-detail-{}.jpg'\n",
    "\n",
    "detail_img_path = './musinsa/detail/{}'\n",
    "for idx, li in enumerate(img_li_list):\n",
    "    img = li.find('img', id=img_id_format.format(idx))\n",
    "    img_url = img['src']\n",
    "    img_url_split = img_url.split('/')\n",
    "    img_original_name = img_url_split[-1]\n",
    "    \n",
    "    img_url_complete = 'https:'+'/'.join(img_url_split[:-1])+'/'+img_original_name[:-6]+'500.jpg'\n",
    "    urlretrieve(img_url_complete, detail_img_path.format('이미지.jpg'))"
   ]
  },
  {
   "cell_type": "markdown",
   "metadata": {},
   "source": [
    "# 1. 한 페이지 당의 전체 상품 크롤링 "
   ]
  },
  {
   "cell_type": "code",
   "execution_count": 65,
   "metadata": {},
   "outputs": [
    {
     "name": "stderr",
     "output_type": "stream",
     "text": [
      "/Users/son/opt/anaconda3/lib/python3.7/site-packages/ipykernel_launcher.py:30: TqdmDeprecationWarning: This function will be removed in tqdm==5.0.0\n",
      "Please use `tqdm.notebook.tqdm` instead of `tqdm.tqdm_notebook`\n"
     ]
    },
    {
     "data": {
      "application/vnd.jupyter.widget-view+json": {
       "model_id": "232611de0aef4598ae04d8f5a5d3d5e4",
       "version_major": 2,
       "version_minor": 0
      },
      "text/plain": [
       "HBox(children=(FloatProgress(value=0.0, max=90.0), HTML(value='')))"
      ]
     },
     "metadata": {},
     "output_type": "display_data"
    },
    {
     "name": "stdout",
     "output_type": "stream",
     "text": [
      "\n"
     ]
    }
   ],
   "source": [
    "import pandas as pd\n",
    "import tqdm\n",
    "\n",
    "base_url = 'https://store.musinsa.com'\n",
    "list_url = '/app/items/lists/001001'\n",
    "\n",
    "url = 'https://store.musinsa.com/app/items/lists/001001'\n",
    "page = urlopen(url)\n",
    "soup = BeautifulSoup(page, 'html.parser')\n",
    "\n",
    "thumb_img_name  = '001001-{}-thumb.jpg'\n",
    "detail_img_name = '001001-{}-detail-{}.jpg'\n",
    "\n",
    "thumb_path = './musinsa/thumb/{}'\n",
    "detail_path = './musinsa/detail/{}'\n",
    "\n",
    "li_box = soup.find('ul', id='searchList').find_all('li', class_='li_box')\n",
    "\n",
    "\n",
    "product_num_list = []\n",
    "brand_list = []\n",
    "product_name_list = []\n",
    "price_list = []\n",
    "review_list = []\n",
    "thumb_list = []\n",
    "detail_list = []\n",
    "\n",
    "\n",
    "\n",
    "for li in tqdm.tqdm_notebook(li_box):\n",
    "    brand = li_box[0].find('p', class_='item_title').text.strip()\n",
    "    product_name = li_box[0].find('p', class_='list_info').text.strip()\n",
    "    price = li_box[0].find('p', class_='price').text.strip()\n",
    "    product_num = li.find('div', class_='list_img').find('a')['href'].split('/')[-2]\n",
    "    thumbnail = thumb_img_name.format(product_num)\n",
    "    \n",
    "    product_num_list.append(product_num)\n",
    "    brand_list.append(brand)\n",
    "    price_list.append(price)\n",
    "    product_name_list.append(product_name)\n",
    "    thumb_list.append(thumbnail)\n",
    "    \n",
    "    # 이미지 다운로드\n",
    "    thumb_url = li.find('div', class_='list_img').find('a').find('img')['data-original']\n",
    "    urlretrieve('https:'+ thumb_url, thumb_path.format(thumbnail))\n",
    "    \n",
    "    detail_url = li.find('div', class_='list_img').find('a')['href']\n",
    "    \n",
    "    # 디테일 페이지 크롤링 시작 \n",
    "    full_url = urljoin(base_url, detail_url)\n",
    "    detail_page = urlopen(full_url)\n",
    "    detail_soup = BeautifulSoup(detail_page, 'html.parser')\n",
    "    \n",
    "    # 디테일 페이지에서 후기 가져오기\n",
    "    review_msg = detail_soup.find('div', class_='estimate-stats').text.strip()\n",
    "    review_list.append(review_msg)\n",
    "    \n",
    "    # 실제 이미지 목록 가져오기\n",
    "    img_li_list = detail_soup.find('ul', class_='product_thumb').find_all('li')\n",
    "    \n",
    "    detail_img_list = []\n",
    "    for idx, li in enumerate(img_li_list):\n",
    "        img = li.find('img', id=img_id_format.format(idx))\n",
    "        img_url = img['src']\n",
    "        img_url_split = img_url.split('/')\n",
    "        img_original_name = img_url_split[-1]\n",
    "        \n",
    "        img_url_complete = 'https:'+'/'.join(img_url_split[:-1])+'/'+img_original_name[:-6]+'500.jpg'\n",
    "        detail_name = detail_img_name.format(product_num, idx)\n",
    "        detail_img_list.append(detail_name)\n",
    "        urlretrieve(img_url_complete, detail_img_path.format(detail_name))\n",
    "        \n",
    "    detail_list.append('#'.join(detail_img_list))\n",
    "    \n"
   ]
  },
  {
   "cell_type": "code",
   "execution_count": 66,
   "metadata": {},
   "outputs": [],
   "source": [
    "df_musinsa = pd.DataFrame({\n",
    "    '제품번호':product_num_list,\n",
    "    '브랜드':brand_list,\n",
    "    '제품명':product_name_list,\n",
    "    '가격':price_list,\n",
    "    '썸네일':thumb_list,\n",
    "    '리뷰':review_list,\n",
    "    '상세사진':detail_list\n",
    "})\n",
    "\n",
    "df_musinsa.to_csv('./data/musinsa.csv', encoding='utf-8')\n",
    "    "
   ]
  },
  {
   "cell_type": "code",
   "execution_count": 67,
   "metadata": {},
   "outputs": [
    {
     "data": {
      "text/html": [
       "<div>\n",
       "<style scoped>\n",
       "    .dataframe tbody tr th:only-of-type {\n",
       "        vertical-align: middle;\n",
       "    }\n",
       "\n",
       "    .dataframe tbody tr th {\n",
       "        vertical-align: top;\n",
       "    }\n",
       "\n",
       "    .dataframe thead th {\n",
       "        text-align: right;\n",
       "    }\n",
       "</style>\n",
       "<table border=\"1\" class=\"dataframe\">\n",
       "  <thead>\n",
       "    <tr style=\"text-align: right;\">\n",
       "      <th></th>\n",
       "      <th>제품번호</th>\n",
       "      <th>브랜드</th>\n",
       "      <th>제품명</th>\n",
       "      <th>가격</th>\n",
       "      <th>썸네일</th>\n",
       "      <th>리뷰</th>\n",
       "      <th>상세사진</th>\n",
       "    </tr>\n",
       "  </thead>\n",
       "  <tbody>\n",
       "    <tr>\n",
       "      <th>0</th>\n",
       "      <td>787664</td>\n",
       "      <td>[클리어런스]</td>\n",
       "      <td>DOX-607 SIMPLE POCKET 1/2 T - BLACK</td>\n",
       "      <td>24,000원\\t\\t\\t\\t6,900원</td>\n",
       "      <td>001001-787664-thumb.jpg</td>\n",
       "      <td>94.9% 만족</td>\n",
       "      <td>001001-787664-detail-0.jpg</td>\n",
       "    </tr>\n",
       "    <tr>\n",
       "      <th>1</th>\n",
       "      <td>787665</td>\n",
       "      <td>[클리어런스]</td>\n",
       "      <td>DOX-607 SIMPLE POCKET 1/2 T - BLACK</td>\n",
       "      <td>24,000원\\t\\t\\t\\t6,900원</td>\n",
       "      <td>001001-787665-thumb.jpg</td>\n",
       "      <td>94.9% 만족</td>\n",
       "      <td>001001-787665-detail-0.jpg</td>\n",
       "    </tr>\n",
       "    <tr>\n",
       "      <th>2</th>\n",
       "      <td>1517408</td>\n",
       "      <td>[클리어런스]</td>\n",
       "      <td>DOX-607 SIMPLE POCKET 1/2 T - BLACK</td>\n",
       "      <td>24,000원\\t\\t\\t\\t6,900원</td>\n",
       "      <td>001001-1517408-thumb.jpg</td>\n",
       "      <td>등록된 후기가 없습니다.</td>\n",
       "      <td>001001-1517408-detail-0.jpg#001001-1517408-det...</td>\n",
       "    </tr>\n",
       "    <tr>\n",
       "      <th>3</th>\n",
       "      <td>1517392</td>\n",
       "      <td>[클리어런스]</td>\n",
       "      <td>DOX-607 SIMPLE POCKET 1/2 T - BLACK</td>\n",
       "      <td>24,000원\\t\\t\\t\\t6,900원</td>\n",
       "      <td>001001-1517392-thumb.jpg</td>\n",
       "      <td>등록된 후기가 없습니다.</td>\n",
       "      <td>001001-1517392-detail-0.jpg#001001-1517392-det...</td>\n",
       "    </tr>\n",
       "    <tr>\n",
       "      <th>4</th>\n",
       "      <td>1508488</td>\n",
       "      <td>[클리어런스]</td>\n",
       "      <td>DOX-607 SIMPLE POCKET 1/2 T - BLACK</td>\n",
       "      <td>24,000원\\t\\t\\t\\t6,900원</td>\n",
       "      <td>001001-1508488-thumb.jpg</td>\n",
       "      <td>등록된 후기가 없습니다.</td>\n",
       "      <td>001001-1508488-detail-0.jpg#001001-1508488-det...</td>\n",
       "    </tr>\n",
       "  </tbody>\n",
       "</table>\n",
       "</div>"
      ],
      "text/plain": [
       "      제품번호      브랜드                                  제품명  \\\n",
       "0   787664  [클리어런스]  DOX-607 SIMPLE POCKET 1/2 T - BLACK   \n",
       "1   787665  [클리어런스]  DOX-607 SIMPLE POCKET 1/2 T - BLACK   \n",
       "2  1517408  [클리어런스]  DOX-607 SIMPLE POCKET 1/2 T - BLACK   \n",
       "3  1517392  [클리어런스]  DOX-607 SIMPLE POCKET 1/2 T - BLACK   \n",
       "4  1508488  [클리어런스]  DOX-607 SIMPLE POCKET 1/2 T - BLACK   \n",
       "\n",
       "                      가격                       썸네일             리뷰  \\\n",
       "0  24,000원\\t\\t\\t\\t6,900원   001001-787664-thumb.jpg       94.9% 만족   \n",
       "1  24,000원\\t\\t\\t\\t6,900원   001001-787665-thumb.jpg       94.9% 만족   \n",
       "2  24,000원\\t\\t\\t\\t6,900원  001001-1517408-thumb.jpg  등록된 후기가 없습니다.   \n",
       "3  24,000원\\t\\t\\t\\t6,900원  001001-1517392-thumb.jpg  등록된 후기가 없습니다.   \n",
       "4  24,000원\\t\\t\\t\\t6,900원  001001-1508488-thumb.jpg  등록된 후기가 없습니다.   \n",
       "\n",
       "                                                상세사진  \n",
       "0                         001001-787664-detail-0.jpg  \n",
       "1                         001001-787665-detail-0.jpg  \n",
       "2  001001-1517408-detail-0.jpg#001001-1517408-det...  \n",
       "3  001001-1517392-detail-0.jpg#001001-1517392-det...  \n",
       "4  001001-1508488-detail-0.jpg#001001-1508488-det...  "
      ]
     },
     "execution_count": 67,
     "metadata": {},
     "output_type": "execute_result"
    }
   ],
   "source": [
    "df_musinsa.head()"
   ]
  },
  {
   "cell_type": "code",
   "execution_count": null,
   "metadata": {},
   "outputs": [],
   "source": []
  }
 ],
 "metadata": {
  "kernelspec": {
   "display_name": "Python 3",
   "language": "python",
   "name": "python3"
  },
  "language_info": {
   "codemirror_mode": {
    "name": "ipython",
    "version": 3
   },
   "file_extension": ".py",
   "mimetype": "text/x-python",
   "name": "python",
   "nbconvert_exporter": "python",
   "pygments_lexer": "ipython3",
   "version": "3.7.6"
  }
 },
 "nbformat": 4,
 "nbformat_minor": 4
}
