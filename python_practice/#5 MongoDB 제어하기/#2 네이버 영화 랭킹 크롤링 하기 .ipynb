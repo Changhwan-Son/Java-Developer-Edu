{
 "cells": [
  {
   "cell_type": "code",
   "execution_count": 1,
   "metadata": {},
   "outputs": [],
   "source": [
    "import requests\n",
    "from bs4 import BeautifulSoup"
   ]
  },
  {
   "cell_type": "code",
   "execution_count": 2,
   "metadata": {},
   "outputs": [],
   "source": [
    "headers = {'User-Agent' : 'Mozilla/5.0 (Windows NT 10.0; Win64; x64)AppleWebKit/537.36 (KHTML, like Gecko) Chrome/73.0.3683.86 Safari/537.36'}\n",
    "data = requests.get('https://movie.naver.com/movie/sdb/rank/rmovie.nhn?sel=pnt&date=20200719',headers=headers)"
   ]
  },
  {
   "cell_type": "code",
   "execution_count": 3,
   "metadata": {},
   "outputs": [],
   "source": [
    "soup = BeautifulSoup(data.text, 'html.parser')"
   ]
  },
  {
   "cell_type": "markdown",
   "metadata": {},
   "source": [
    "## css 선택자 ( selector )를 활용한 크롤링 \n",
    "- select() 활용하기 "
   ]
  },
  {
   "cell_type": "code",
   "execution_count": 4,
   "metadata": {},
   "outputs": [
    {
     "data": {
      "text/plain": [
       "56"
      ]
     },
     "execution_count": 4,
     "metadata": {},
     "output_type": "execute_result"
    }
   ],
   "source": [
    "movies = soup.select('#old_content > table > tbody > tr')\n",
    "len(movies)"
   ]
  },
  {
   "cell_type": "code",
   "execution_count": 5,
   "metadata": {},
   "outputs": [
    {
     "name": "stdout",
     "output_type": "stream",
     "text": [
      "1 그린 북 9.59\n",
      "2 가버나움 9.59\n",
      "3 베일리 어게인 9.53\n",
      "4 원더 9.49\n",
      "5 포드 V 페라리 9.49\n",
      "6 아일라 9.49\n",
      "7 주전장 9.48\n",
      "8 당갈 9.47\n",
      "9 쇼생크 탈출 9.44\n",
      "10 터미네이터 2:오리지널 9.44\n",
      "11 보헤미안 랩소디 9.42\n",
      "12 덕구 9.42\n",
      "13 월-E 9.41\n",
      "14 나 홀로 집에 9.41\n",
      "15 라이언 일병 구하기 9.40\n",
      "16 사운드 오브 뮤직 9.40\n",
      "17 살인의 추억 9.40\n",
      "18 빽 투 더 퓨쳐 9.40\n",
      "19 매트릭스 9.40\n",
      "20 인생은 아름다워 9.40\n",
      "21 헬프 9.40\n",
      "22 아이즈 온 미 : 더 무비 9.40\n",
      "23 위대한 쇼맨 9.40\n",
      "24 포레스트 검프 9.40\n",
      "25 클래식 9.39\n",
      "26 글래디에이터 9.39\n",
      "27 센과 치히로의 행방불명 9.39\n",
      "28 토이 스토리 3 9.38\n",
      "29 타이타닉 9.38\n",
      "30 알라딘 9.38\n",
      "31 어벤져스: 엔드게임 9.38\n",
      "32 안녕 베일리 9.37\n",
      "33 죽은 시인의 사회 9.37\n",
      "34 레옹 9.37\n",
      "35 집으로... 9.37\n",
      "36 헌터 킬러 9.37\n",
      "37 반지의 제왕: 왕의 귀환 9.37\n",
      "38 동주 9.37\n",
      "39 아이 캔 스피크 9.37\n",
      "40 캐스트 어웨이 9.37\n",
      "41 히든 피겨스 9.36\n",
      "42 굿바이 마이 프랜드 9.36\n",
      "43 여인의 향기 9.36\n",
      "44 굿 윌 헌팅 9.36\n",
      "45 서유기 2 - 선리기연 9.36\n",
      "46 클레멘타인 9.35\n",
      "47 주토피아 9.35\n",
      "48 쉰들러 리스트 9.35\n",
      "49 달링 9.35\n",
      "50 모노노케 히메 9.35\n"
     ]
    }
   ],
   "source": [
    "# movie : 수집한 tr 태그 \n",
    "for movie in movies:\n",
    "    a_tag = movie.select_one('td.title > div > a')\n",
    "    \n",
    "    # tr에 a_tag가 None이 아니면 ( 있으면... )\n",
    "    if a_tag is not None:\n",
    "        rank = int(movie.select_one('td:nth-child(1) > img').get('alt'))\n",
    "        title = a_tag.text\n",
    "        star = movie.select_one('td.point').text\n",
    "        print(rank, title, star)"
   ]
  },
  {
   "cell_type": "code",
   "execution_count": 6,
   "metadata": {},
   "outputs": [],
   "source": [
    "from pymongo import MongoClient\n",
    "\n",
    "client = MongoClient('localhost', 27017)\n",
    "db     = client.movie\n",
    "\n",
    "for movie in movies:\n",
    "    a_tag = movie.select_one('td.title > div > a')\n",
    "    \n",
    "    if a_tag is not None:\n",
    "        rank = int(movie.select_one('td:nth-child(1) > img').get('alt'))\n",
    "        title = a_tag.text\n",
    "        star = movie.select_one('td.point').text\n",
    "        \n",
    "        movie_doc = {\n",
    "            'rank':rank,\n",
    "            'title':title,\n",
    "            'star':star\n",
    "        }\n",
    "        \n",
    "        \n",
    "        db.movie.insert_one(movie_doc)"
   ]
  },
  {
   "cell_type": "markdown",
   "metadata": {},
   "source": [
    "## 과제\n",
    "1. 100일치 네이버 영화 평점 데이터 크롤링 하기\n",
    "-> 제목, 스코어\n",
    "2. 100일치 데이터를 mongodb에 insert\n",
    "\n",
    "3. insert된 내용을 토대로 데이터프레임을 생성하고, 시각화 하기"
   ]
  },
  {
   "cell_type": "markdown",
   "metadata": {},
   "source": [
    "### 1. 100일치 네이버 영화 평점 데이터 크롤링"
   ]
  },
  {
   "cell_type": "code",
   "execution_count": 94,
   "metadata": {},
   "outputs": [],
   "source": [
    "import pandas as pd\n",
    "\n",
    "date = pd.date_range('2020-04-12', periods = 100, freq='D')"
   ]
  },
  {
   "cell_type": "code",
   "execution_count": 95,
   "metadata": {},
   "outputs": [],
   "source": [
    "import urllib\n",
    "from urllib.request import urlopen # url을 이용한 http 요청을 하기위한 객체\n",
    "from urllib.parse import urljoin # url을 굉장히 다루기 쉽게 해준다. \n",
    "\n",
    "movie_date = [] # 평점 검색 날짜 \n",
    "movie_name = [] # 영화 제목 \n",
    "movie_point = [] # 해당 일자 영화 평점 점수 "
   ]
  },
  {
   "cell_type": "code",
   "execution_count": 96,
   "metadata": {},
   "outputs": [],
   "source": [
    "url_base = 'https://movie.naver.com/'\n",
    "url_sub = 'movie/sdb/rank/rmovie.nhn?sel=pnt&date={}'"
   ]
  },
  {
   "cell_type": "code",
   "execution_count": 97,
   "metadata": {},
   "outputs": [
    {
     "name": "stderr",
     "output_type": "stream",
     "text": [
      "/Users/son/opt/anaconda3/lib/python3.7/site-packages/ipykernel_launcher.py:5: TqdmDeprecationWarning: This function will be removed in tqdm==5.0.0\n",
      "Please use `tqdm.notebook.tqdm` instead of `tqdm.tqdm_notebook`\n",
      "  \"\"\"\n"
     ]
    },
    {
     "data": {
      "application/vnd.jupyter.widget-view+json": {
       "model_id": "963e79a3aade4cbf83f2fd6d60319cc3",
       "version_major": 2,
       "version_minor": 0
      },
      "text/plain": [
       "HBox(children=(FloatProgress(value=0.0), HTML(value='')))"
      ]
     },
     "metadata": {},
     "output_type": "display_data"
    },
    {
     "name": "stdout",
     "output_type": "stream",
     "text": [
      "\n"
     ]
    }
   ],
   "source": [
    "import tqdm\n",
    "\n",
    "db = client.movie_point\n",
    "\n",
    "for today in tqdm.tqdm_notebook(date):\n",
    "    # yyyy-mm-dd 형식의 날짜 형식을 yyyymmdd 형식으로 바꿔주기\n",
    "    today = urllib.parse.quote(today.strftime('%Y%m%d'))\n",
    "    url_formated = url_sub.format(today)\n",
    "    url = urljoin(url_base, url_formated)\n",
    "    \n",
    "    page = urlopen(url)\n",
    "    soup = BeautifulSoup(page, 'html.parser')\n",
    "    \n",
    "   \n",
    "\n",
    "    # 조회한 날짜마다의 영화의 제목과 평점을 한꺼번에 구하기 \n",
    "    movies = [movie.text.strip() for movie in soup.find_all('div', class_='tit5')]\n",
    "    points = [float(point.text.strip()) for point in soup.find_all('td', class_='point')]\n",
    "    \n",
    "    movie_date.extend([ today for n in range(0, len(movies))]) # 날짜 데이터 리스트 추가 \n",
    "    movie_name.extend(movies)\n",
    "    movie_point.extend(points)\n",
    " \n",
    "\n",
    "   "
   ]
  },
  {
   "cell_type": "markdown",
   "metadata": {},
   "source": [
    "### 2. 100일치 데이터를 mongodb에 insert"
   ]
  },
  {
   "cell_type": "code",
   "execution_count": 98,
   "metadata": {},
   "outputs": [],
   "source": [
    "for n in range(0,len(movie_date)):\n",
    "    movie_doc = {\n",
    "        'date': movie_date[n],\n",
    "        'name': movie_name[n],\n",
    "        'point':movie_point[n]\n",
    "    }\n",
    "    \n",
    "    db.movie_point.insert_one(movie_doc)"
   ]
  },
  {
   "cell_type": "markdown",
   "metadata": {},
   "source": [
    "### 3. insert된 내용을 토대로 데이터프레임을 생성하고, 시각화 하기"
   ]
  },
  {
   "cell_type": "code",
   "execution_count": 99,
   "metadata": {},
   "outputs": [
    {
     "data": {
      "text/html": [
       "<div>\n",
       "<style scoped>\n",
       "    .dataframe tbody tr th:only-of-type {\n",
       "        vertical-align: middle;\n",
       "    }\n",
       "\n",
       "    .dataframe tbody tr th {\n",
       "        vertical-align: top;\n",
       "    }\n",
       "\n",
       "    .dataframe thead th {\n",
       "        text-align: right;\n",
       "    }\n",
       "</style>\n",
       "<table border=\"1\" class=\"dataframe\">\n",
       "  <thead>\n",
       "    <tr style=\"text-align: right;\">\n",
       "      <th></th>\n",
       "      <th>date</th>\n",
       "      <th>name</th>\n",
       "      <th>point</th>\n",
       "    </tr>\n",
       "  </thead>\n",
       "  <tbody>\n",
       "    <tr>\n",
       "      <th>0</th>\n",
       "      <td>20200412</td>\n",
       "      <td>그린 북</td>\n",
       "      <td>9.60</td>\n",
       "    </tr>\n",
       "    <tr>\n",
       "      <th>1</th>\n",
       "      <td>20200412</td>\n",
       "      <td>가버나움</td>\n",
       "      <td>9.58</td>\n",
       "    </tr>\n",
       "    <tr>\n",
       "      <th>2</th>\n",
       "      <td>20200412</td>\n",
       "      <td>베일리 어게인</td>\n",
       "      <td>9.52</td>\n",
       "    </tr>\n",
       "    <tr>\n",
       "      <th>3</th>\n",
       "      <td>20200412</td>\n",
       "      <td>포드 V 페라리</td>\n",
       "      <td>9.50</td>\n",
       "    </tr>\n",
       "    <tr>\n",
       "      <th>4</th>\n",
       "      <td>20200412</td>\n",
       "      <td>주전장</td>\n",
       "      <td>9.50</td>\n",
       "    </tr>\n",
       "    <tr>\n",
       "      <th>...</th>\n",
       "      <td>...</td>\n",
       "      <td>...</td>\n",
       "      <td>...</td>\n",
       "    </tr>\n",
       "    <tr>\n",
       "      <th>4995</th>\n",
       "      <td>20200720</td>\n",
       "      <td>클레멘타인</td>\n",
       "      <td>9.35</td>\n",
       "    </tr>\n",
       "    <tr>\n",
       "      <th>4996</th>\n",
       "      <td>20200720</td>\n",
       "      <td>주토피아</td>\n",
       "      <td>9.35</td>\n",
       "    </tr>\n",
       "    <tr>\n",
       "      <th>4997</th>\n",
       "      <td>20200720</td>\n",
       "      <td>쉰들러 리스트</td>\n",
       "      <td>9.35</td>\n",
       "    </tr>\n",
       "    <tr>\n",
       "      <th>4998</th>\n",
       "      <td>20200720</td>\n",
       "      <td>달링</td>\n",
       "      <td>9.35</td>\n",
       "    </tr>\n",
       "    <tr>\n",
       "      <th>4999</th>\n",
       "      <td>20200720</td>\n",
       "      <td>모노노케 히메</td>\n",
       "      <td>9.35</td>\n",
       "    </tr>\n",
       "  </tbody>\n",
       "</table>\n",
       "<p>5000 rows × 3 columns</p>\n",
       "</div>"
      ],
      "text/plain": [
       "          date      name  point\n",
       "0     20200412      그린 북   9.60\n",
       "1     20200412      가버나움   9.58\n",
       "2     20200412   베일리 어게인   9.52\n",
       "3     20200412  포드 V 페라리   9.50\n",
       "4     20200412       주전장   9.50\n",
       "...        ...       ...    ...\n",
       "4995  20200720     클레멘타인   9.35\n",
       "4996  20200720      주토피아   9.35\n",
       "4997  20200720   쉰들러 리스트   9.35\n",
       "4998  20200720        달링   9.35\n",
       "4999  20200720   모노노케 히메   9.35\n",
       "\n",
       "[5000 rows x 3 columns]"
      ]
     },
     "execution_count": 99,
     "metadata": {},
     "output_type": "execute_result"
    }
   ],
   "source": [
    "date = []\n",
    "name = []\n",
    "point = []\n",
    "\n",
    "data_all = list(db.movie_point.find())\n",
    "for data in data_all:\n",
    "    date.append(data['date'])\n",
    "    name.append(data['name'])\n",
    "    point.append(data['point'])\n",
    "\n",
    "    \n",
    "movie_point_df = pd.DataFrame({\n",
    "    'date':date,\n",
    "    'name':name,\n",
    "    'point':point\n",
    "})\n",
    "    \n",
    "\n",
    "movie_point_df"
   ]
  },
  {
   "cell_type": "code",
   "execution_count": null,
   "metadata": {},
   "outputs": [],
   "source": []
  }
 ],
 "metadata": {
  "kernelspec": {
   "display_name": "Python 3",
   "language": "python",
   "name": "python3"
  },
  "language_info": {
   "codemirror_mode": {
    "name": "ipython",
    "version": 3
   },
   "file_extension": ".py",
   "mimetype": "text/x-python",
   "name": "python",
   "nbconvert_exporter": "python",
   "pygments_lexer": "ipython3",
   "version": "3.7.6"
  }
 },
 "nbformat": 4,
 "nbformat_minor": 4
}
