{
 "cells": [
  {
   "cell_type": "markdown",
   "metadata": {},
   "source": [
    "# 머신러닝을 위한 파이썬 지식\n",
    "- 변수의 개념\n",
    "- 자료구조( 특히 리스트 - 배열 )\n",
    "- 배열의 차수( n차원 배열 ) -> 딥러닝에서 중요한 개념 \n",
    "- 함수 \n",
    "\n",
    "\n",
    "\n",
    "## 수학 \n",
    "* 몰라도 되는데 수학을 알면 머신러닝/딥러닝 블랙박스를 알 수 있다.\n",
    "-> 머신러닝 모델의 성능을 최적화 할 수 있다. ( 연구 )\n",
    "* 행렬, 벡터, 선형대수 \n",
    "* 미분, 편미분 ( 딥러닝에서 매우 중요 )\n",
    "* Sigma 기호 \n",
    "\n",
    "## 영어 \n",
    "* A.I , 머신러닝, 딥러닝 등은 지금도 계속 연구중 -> 논문이 자꾸 나온다.\n",
    "* API를 읽기 위해서라도 영어는 필요하다. \n",
    "\n",
    "\n",
    "* 영어로 된 논문을 읽고 해당 논문의 수학 공식 및 모델 구성도를 활용하여 파이썬을 이용해 모델을 구축하는 것이 목표 ( 데이터 사이언티스트 )"
   ]
  }
 ],
 "metadata": {
  "kernelspec": {
   "display_name": "Python 3",
   "language": "python",
   "name": "python3"
  },
  "language_info": {
   "codemirror_mode": {
    "name": "ipython",
    "version": 3
   },
   "file_extension": ".py",
   "mimetype": "text/x-python",
   "name": "python",
   "nbconvert_exporter": "python",
   "pygments_lexer": "ipython3",
   "version": "3.7.6"
  }
 },
 "nbformat": 4,
 "nbformat_minor": 4
}
